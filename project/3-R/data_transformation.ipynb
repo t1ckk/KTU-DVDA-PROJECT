{
  "nbformat": 4,
  "nbformat_minor": 0,
  "metadata": {
    "colab": {
      "provenance": [],
      "machine_shape": "hm",
      "toc_visible": true
    },
    "kernelspec": {
      "name": "python3",
      "display_name": "Python 3"
    },
    "gpuClass": "standard"
  },
  "cells": [
    {
      "cell_type": "code",
      "source": [
        "from google.colab import drive\n",
        "drive.mount('/content/drive')"
      ],
      "metadata": {
        "colab": {
          "base_uri": "https://localhost:8080/"
        },
        "id": "D7J1U2jq-PV7",
        "outputId": "8e6d06a5-e5f4-4046-cb26-b3eeca203fee"
      },
      "execution_count": null,
      "outputs": [
        {
          "output_type": "stream",
          "name": "stdout",
          "text": [
            "Mounted at /content/drive\n"
          ]
        }
      ]
    },
    {
      "cell_type": "code",
      "source": [
        "import pandas as pd\n",
        "import numpy as np"
      ],
      "metadata": {
        "id": "9w3QK6YLBEI_"
      },
      "execution_count": null,
      "outputs": []
    },
    {
      "cell_type": "code",
      "source": [
        "path = '/content/drive/MyDrive/P160M132-data/'\n",
        "df1 = pd.read_csv(path + '1-sample_data.csv')\n",
        "df2 = pd.read_csv(path + '2-additional_data.csv')\n",
        "df3 = pd.read_csv(path + '3-additional_features.csv')\n",
        "df = pd.concat([df1, df2]).merge(df3, on = ['id'])"
      ],
      "metadata": {
        "id": "rnxI0jpdBova"
      },
      "execution_count": null,
      "outputs": []
    },
    {
      "cell_type": "code",
      "source": [
        "df.to_csv('/content/drive/MyDrive/Train Data/full_train_data.csv')"
      ],
      "metadata": {
        "id": "aO_piUrEB5dS"
      },
      "execution_count": null,
      "outputs": []
    }
  ]
}